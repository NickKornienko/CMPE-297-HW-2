{
 "cells": [
  {
   "cell_type": "code",
   "execution_count": 5,
   "metadata": {},
   "outputs": [
    {
     "name": "stdout",
     "output_type": "stream",
     "text": [
      "Collecting ollama\n",
      "  Downloading ollama-0.3.3-py3-none-any.whl.metadata (3.8 kB)\n",
      "Requirement already satisfied: httpx<0.28.0,>=0.27.0 in c:\\users\\nickk\\appdata\\local\\packages\\pythonsoftwarefoundation.python.3.11_qbz5n2kfra8p0\\localcache\\local-packages\\python311\\site-packages (from ollama) (0.27.0)\n",
      "Requirement already satisfied: anyio in c:\\users\\nickk\\appdata\\local\\packages\\pythonsoftwarefoundation.python.3.11_qbz5n2kfra8p0\\localcache\\local-packages\\python311\\site-packages (from httpx<0.28.0,>=0.27.0->ollama) (3.7.1)\n",
      "Requirement already satisfied: certifi in c:\\users\\nickk\\appdata\\local\\packages\\pythonsoftwarefoundation.python.3.11_qbz5n2kfra8p0\\localcache\\local-packages\\python311\\site-packages (from httpx<0.28.0,>=0.27.0->ollama) (2023.7.22)\n",
      "Requirement already satisfied: httpcore==1.* in c:\\users\\nickk\\appdata\\local\\packages\\pythonsoftwarefoundation.python.3.11_qbz5n2kfra8p0\\localcache\\local-packages\\python311\\site-packages (from httpx<0.28.0,>=0.27.0->ollama) (1.0.4)\n",
      "Requirement already satisfied: idna in c:\\users\\nickk\\appdata\\local\\packages\\pythonsoftwarefoundation.python.3.11_qbz5n2kfra8p0\\localcache\\local-packages\\python311\\site-packages (from httpx<0.28.0,>=0.27.0->ollama) (3.4)\n",
      "Requirement already satisfied: sniffio in c:\\users\\nickk\\appdata\\local\\packages\\pythonsoftwarefoundation.python.3.11_qbz5n2kfra8p0\\localcache\\local-packages\\python311\\site-packages (from httpx<0.28.0,>=0.27.0->ollama) (1.3.0)\n",
      "Requirement already satisfied: h11<0.15,>=0.13 in c:\\users\\nickk\\appdata\\local\\packages\\pythonsoftwarefoundation.python.3.11_qbz5n2kfra8p0\\localcache\\local-packages\\python311\\site-packages (from httpcore==1.*->httpx<0.28.0,>=0.27.0->ollama) (0.14.0)\n",
      "Downloading ollama-0.3.3-py3-none-any.whl (10 kB)\n",
      "Installing collected packages: ollama\n",
      "Successfully installed ollama-0.3.3\n",
      "Note: you may need to restart the kernel to use updated packages.\n"
     ]
    },
    {
     "name": "stderr",
     "output_type": "stream",
     "text": [
      "\n",
      "[notice] A new release of pip is available: 24.0 -> 24.2\n",
      "[notice] To update, run: C:\\Users\\Nickk\\AppData\\Local\\Microsoft\\WindowsApps\\PythonSoftwareFoundation.Python.3.11_qbz5n2kfra8p0\\python.exe -m pip install --upgrade pip\n"
     ]
    }
   ],
   "source": [
    "%pip install ollama"
   ]
  },
  {
   "cell_type": "markdown",
   "metadata": {},
   "source": [
    "## C1/C4. Running gemma 2b locally with ollama"
   ]
  },
  {
   "cell_type": "code",
   "execution_count": 6,
   "metadata": {},
   "outputs": [
    {
     "name": "stdout",
     "output_type": "stream",
     "text": [
      "Sure, here is a definition of quantum computing:\n",
      "\n",
      "**Quantum computing** is a type of computing that harnesses the principles of quantum mechanics to solve problems that are too complex for classical computers.\n",
      "\n",
      "**Key characteristics of quantum computing:**\n",
      "\n",
      "* **Quantum bits (qubits):** Unlike classical bits which can be either 0 or 1, qubits can be in a superposition of both states simultaneously. This allows quantum computers to perform multiple calculations simultaneously, speeding up processing for certain problems.\n",
      "* **Entanglement:** Qubits can be entangled, meaning their fates are correlated no matter the distance between them. This allows quantum computers to perform calculations that are impossible for classical computers.\n",
      "* **Quantum algorithms:** Quantum computers run specific algorithms designed to leverage the power of qubits and entanglement.\n",
      "\n",
      "**Some potential applications of quantum computing include:**\n",
      "\n",
      "* Drug discovery\n",
      "* Materials science\n",
      "* Financial modeling\n",
      "* Artificial intelligence\n",
      "* Cryptography\n",
      "\n",
      "**Challenges to quantum computing:**\n",
      "\n",
      "* Building and maintaining quantum computers is extremely complex and expensive.\n",
      "* Quantum algorithms are not applicable to all types of problems.\n",
      "* Quantum computers are still in their early stages of development, and it will likely be some time before they are widely used.\n",
      "\n",
      "**Additional information:**\n",
      "\n",
      "* Quantum computing is a rapidly evolving field, with significant advancements being made all the time.\n",
      "* The first quantum computer, named Qiskit, was built by IBM in 2019.\n",
      "* Quantum computing is a potential game changer for a wide range of industries.\n"
     ]
    }
   ],
   "source": [
    "import ollama\n",
    "response = ollama.generate(model='gemma:2b', prompt='What is quantum computing?')\n",
    "print(response['response'])"
   ]
  },
  {
   "cell_type": "markdown",
   "metadata": {},
   "source": [
    "## C3. API"
   ]
  },
  {
   "cell_type": "code",
   "execution_count": null,
   "metadata": {},
   "outputs": [],
   "source": [
    "import requests\n",
    "import json\n",
    "\n",
    "# Define the API URL for local host\n",
    "api_url = \"http://localhost:11434/generate\"\n",
    "\n",
    "# Data to send in the POST request\n",
    "payload = {\n",
    "    \"prompt\": \"What is 2 + 2?\",\n",
    "}\n",
    "\n",
    "# Make the POST request to the local server\n",
    "response = requests.post(api_url, data=json.dumps(payload), headers={\"Content-Type\": \"application/json\"})\n",
    "\n",
    "# Check if the request was successful\n",
    "if response.status_code == 200:\n",
    "    # Get the JSON response\n",
    "    data = response.json()\n",
    "    print(\"Response from Local Ollama API:\", data)\n",
    "else:\n",
    "    print(f\"Request failed with status code {response.status_code}\")"
   ]
  }
 ],
 "metadata": {
  "kernelspec": {
   "display_name": "Python 3",
   "language": "python",
   "name": "python3"
  },
  "language_info": {
   "codemirror_mode": {
    "name": "ipython",
    "version": 3
   },
   "file_extension": ".py",
   "mimetype": "text/x-python",
   "name": "python",
   "nbconvert_exporter": "python",
   "pygments_lexer": "ipython3",
   "version": "3.11.9"
  }
 },
 "nbformat": 4,
 "nbformat_minor": 2
}
